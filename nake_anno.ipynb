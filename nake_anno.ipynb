{
 "cells": [
  {
   "cell_type": "code",
   "execution_count": 48,
   "metadata": {},
   "outputs": [],
   "source": [
    "import pandas as pd\n",
    "import os"
   ]
  },
  {
   "cell_type": "code",
   "execution_count": 61,
   "metadata": {},
   "outputs": [],
   "source": [
    "def make_anno(path_root):\n",
    "    '''\n",
    "    生成截取后的训练样本和测试样本\n",
    "    '''\n",
    "    path_labels = path_root + '/train.csv'\n",
    "    \n",
    "    train = path_root + '/train_annotation.csv'\n",
    "    test = path_root + '/test_annotation.csv'\n",
    "    #读取文件\n",
    "    dataIfo = pd.read_csv(path_labels)\n",
    "    #打乱数据行\n",
    "    dataIfo['filename'] = dataIfo['filename'].apply(lambda x : 'data/train/' + str(x) + '.jpg')\n",
    "    dataIfo = dataIfo.sample(frac= 1, random_state=1)\n",
    "    dataIfo.iloc[:round(0.9*len(dataIfo)), :].to_csv(train, index= None)\n",
    "    dataIfo.iloc[round(0.9*len(dataIfo)):, :].to_csv(test, index= None)\n",
    "    return dataIfo"
   ]
  },
  {
   "cell_type": "code",
   "execution_count": 62,
   "metadata": {},
   "outputs": [],
   "source": [
    "anno = make_anno('data')"
   ]
  }
 ],
 "metadata": {
  "kernelspec": {
   "display_name": "Python 3",
   "language": "python",
   "name": "python3"
  },
  "language_info": {
   "codemirror_mode": {
    "name": "ipython",
    "version": 3
   },
   "file_extension": ".py",
   "mimetype": "text/x-python",
   "name": "python",
   "nbconvert_exporter": "python",
   "pygments_lexer": "ipython3",
   "version": "3.6.5"
  }
 },
 "nbformat": 4,
 "nbformat_minor": 2
}
