{
 "cells": [
  {
   "cell_type": "code",
   "execution_count": 4,
   "metadata": {
    "ExecuteTime": {
     "end_time": "2019-12-28T15:02:37.856286Z",
     "start_time": "2019-12-28T15:02:37.854021Z"
    }
   },
   "outputs": [],
   "source": [
    "import pandas as pd\n",
    "import os"
   ]
  },
  {
   "cell_type": "code",
   "execution_count": 5,
   "metadata": {
    "ExecuteTime": {
     "end_time": "2019-12-28T15:02:38.809497Z",
     "start_time": "2019-12-28T15:02:38.804776Z"
    }
   },
   "outputs": [],
   "source": [
    "def make_anno(path_root):\n",
    "    '''\n",
    "    生成截取后的训练样本和测试样本\n",
    "    '''\n",
    "    path_labels = path_root + '/train.csv'\n",
    "    \n",
    "    train = path_root + '/train_annotation.csv'\n",
    "    test = path_root + '/test_annotation.csv'\n",
    "    #读取文件\n",
    "    dataIfo = pd.read_csv(path_labels)\n",
    "    #打乱数据行\n",
    "    dataIfo['filename'] = dataIfo['filename'].apply(lambda x : 'data/train/' + str(x) + '.jpg')\n",
    "    dataIfo = dataIfo.sample(frac= 1, random_state=1)\n",
    "    dataIfo.iloc[:round(0.9*len(dataIfo)), :].to_csv(train, index= None)\n",
    "    dataIfo.iloc[round(0.9*len(dataIfo)):, :].to_csv(test, index= None)\n",
    "    return dataIfo"
   ]
  },
  {
   "cell_type": "code",
   "execution_count": 20,
   "metadata": {
    "ExecuteTime": {
     "end_time": "2019-12-28T15:59:55.290022Z",
     "start_time": "2019-12-28T15:59:55.284789Z"
    }
   },
   "outputs": [],
   "source": [
    "def gen_test():\n",
    "    fns = os.listdir('data/test/')\n",
    "    fns.sort(key= lambda x : int(x.split('.')[0]))\n",
    "    fns = ['data/test/' + o  for o in fns]\n",
    "    pd.DataFrame(fns).to_csv('data/test.csv',header= None, index= None)"
   ]
  },
  {
   "cell_type": "code",
   "execution_count": 6,
   "metadata": {
    "ExecuteTime": {
     "end_time": "2019-12-28T15:02:40.511331Z",
     "start_time": "2019-12-28T15:02:40.309445Z"
    }
   },
   "outputs": [],
   "source": [
    "anno = make_anno('data')"
   ]
  },
  {
   "cell_type": "code",
   "execution_count": 21,
   "metadata": {
    "ExecuteTime": {
     "end_time": "2019-12-28T16:00:07.004308Z",
     "start_time": "2019-12-28T16:00:06.944529Z"
    }
   },
   "outputs": [],
   "source": [
    "gen_test()"
   ]
  },
  {
   "cell_type": "code",
   "execution_count": null,
   "metadata": {},
   "outputs": [],
   "source": []
  }
 ],
 "metadata": {
  "kernelspec": {
   "display_name": "Python 3",
   "language": "python",
   "name": "python3"
  },
  "language_info": {
   "codemirror_mode": {
    "name": "ipython",
    "version": 3
   },
   "file_extension": ".py",
   "mimetype": "text/x-python",
   "name": "python",
   "nbconvert_exporter": "python",
   "pygments_lexer": "ipython3",
   "version": "3.7.3"
  }
 },
 "nbformat": 4,
 "nbformat_minor": 2
}
